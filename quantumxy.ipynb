{
 "cells": [
  {
   "cell_type": "code",
   "execution_count": 1,
   "metadata": {},
   "outputs": [],
   "source": [
    "import os\n",
    "import numpy as np\n",
    "from scipy.sparse.linalg import eigsh\n",
    "from scipy import linalg\n",
    "import pandas as pd\n",
    "import matplotlib.pyplot as plt\n",
    "\n",
    "# For multiprocessing\n",
    "import multiprocessing # os.cpu_count() = 8\n",
    "import itertools\n",
    "\n",
    "# For Hamiltonian\n",
    "import quantumxy.quantumxy as qxy\n",
    "\n",
    "# For measuring time\n",
    "import time"
   ]
  },
  {
   "cell_type": "markdown",
   "metadata": {},
   "source": [
    "## Question 1\n",
    "##### Create quantum XY 1/2-spin chain Hamiltonian using basis"
   ]
  },
  {
   "cell_type": "code",
   "execution_count": 2,
   "metadata": {},
   "outputs": [
    {
     "data": {
      "text/plain": [
       "array([[-3., -0., -0., -0., -0., -0., -0., -0.],\n",
       "       [-0., -1., -1., -0., -1., -0., -0., -0.],\n",
       "       [-0., -1., -1., -0., -1., -0., -0., -0.],\n",
       "       [-0., -0., -0.,  1., -0., -1., -1., -0.],\n",
       "       [-0., -1., -1., -0., -1., -0., -0., -0.],\n",
       "       [-0., -0., -0., -1., -0.,  1., -1., -0.],\n",
       "       [-0., -0., -0., -1., -0., -1.,  1., -0.],\n",
       "       [-0., -0., -0., -0., -0., -0., -0.,  3.]])"
      ]
     },
     "execution_count": 2,
     "metadata": {},
     "output_type": "execute_result"
    }
   ],
   "source": [
    "qxy.generate_Hamiltonian(qxy.generate_full_basis(3), J = 1, h = 1)"
   ]
  },
  {
   "cell_type": "markdown",
   "metadata": {},
   "source": [
    "## Question 2\n",
    "##### Create quantum XY 1/2-spin chain Hamiltonian using Pauli matrices"
   ]
  },
  {
   "cell_type": "code",
   "execution_count": 3,
   "metadata": {},
   "outputs": [
    {
     "data": {
      "text/plain": [
       "array([[-3., -0., -0., -0., -0., -0., -0., -0.],\n",
       "       [-0., -1., -1., -0., -1., -0., -0., -0.],\n",
       "       [-0., -1., -1., -0., -1., -0., -0., -0.],\n",
       "       [-0., -0., -0.,  1., -0., -1., -1., -0.],\n",
       "       [-0., -1., -1., -0., -1., -0., -0., -0.],\n",
       "       [-0., -0., -0., -1., -0.,  1., -1., -0.],\n",
       "       [-0., -0., -0., -1., -0., -1.,  1., -0.],\n",
       "       [-0., -0., -0., -0., -0., -0., -0.,  3.]])"
      ]
     },
     "execution_count": 3,
     "metadata": {},
     "output_type": "execute_result"
    }
   ],
   "source": [
    "qxy.generate_Hamiltonian_with_Pauli_matrices(3, J = 1, h = 1)"
   ]
  },
  {
   "cell_type": "markdown",
   "metadata": {},
   "source": [
    "##### Check the equivalence of two different methods of generating Hamiltonian"
   ]
  },
  {
   "cell_type": "code",
   "execution_count": 4,
   "metadata": {},
   "outputs": [
    {
     "name": "stdout",
     "output_type": "stream",
     "text": [
      "Number of spins: 7\n",
      "Coupling J = 1, Field h = 1: They are equivalent.\n",
      "Coupling J = 1, Field h = 2: They are equivalent.\n",
      "Coupling J = 1, Field h = 3: They are equivalent.\n",
      "Coupling J = 1, Field h = 4: They are equivalent.\n",
      "Coupling J = 2, Field h = 1: They are equivalent.\n",
      "Coupling J = 2, Field h = 2: They are equivalent.\n",
      "Coupling J = 2, Field h = 3: They are equivalent.\n",
      "Coupling J = 2, Field h = 4: They are equivalent.\n",
      "Coupling J = 3, Field h = 1: They are equivalent.\n",
      "Coupling J = 3, Field h = 2: They are equivalent.\n",
      "Coupling J = 3, Field h = 3: They are equivalent.\n",
      "Coupling J = 3, Field h = 4: They are equivalent.\n",
      "Coupling J = 4, Field h = 1: They are equivalent.\n",
      "Coupling J = 4, Field h = 2: They are equivalent.\n",
      "Coupling J = 4, Field h = 3: They are equivalent.\n",
      "Coupling J = 4, Field h = 4: They are equivalent.\n"
     ]
    }
   ],
   "source": [
    "# Parameters\n",
    "J = np.arange(1,5)\n",
    "h = np.arange(1,5)\n",
    "N = 7 # Number of system size\n",
    "\n",
    "print(\"Number of spins: {0}\".format(N))\n",
    "for jj in J:\n",
    "    for hh in h:\n",
    "        H_basis = qxy.generate_Hamiltonian(qxy.generate_full_basis(N), jj, hh)\n",
    "        H_pauli = qxy.generate_Hamiltonian_with_Pauli_matrices(N,  jj, hh)\n",
    "        if np.allclose(H_basis, H_pauli):\n",
    "            print(\"Coupling J = {0}, Field h = {1}: They are equivalent.\".format(jj, hh))\n",
    "        else:\n",
    "            print(\"They are different.\")"
   ]
  },
  {
   "cell_type": "markdown",
   "metadata": {},
   "source": [
    "## Question 3\n",
    "##### Check whether the code works correctly"
   ]
  },
  {
   "cell_type": "code",
   "execution_count": 5,
   "metadata": {},
   "outputs": [
    {
     "data": {
      "text/plain": [
       "array([1., 0., 0., 0., 0., 0., 0., 0.])"
      ]
     },
     "execution_count": 5,
     "metadata": {},
     "output_type": "execute_result"
    }
   ],
   "source": [
    "# Consider when h is larger than zero.\n",
    "decoupled_H_basis = qxy.generate_Hamiltonian(qxy.generate_full_basis(3), 0, 1)\n",
    "decoupled_H_pauli = qxy.generate_Hamiltonian_with_Pauli_matrices(3, 0, 1)\n",
    "\n",
    "np.allclose(decoupled_H_basis, decoupled_H_pauli)\n",
    "# Result\n",
    "# True\n",
    "# They are equivalent.\n",
    "\n",
    "(eigval, eigvec) = linalg.eigh(decoupled_H_basis)\n",
    "eigvec[np.argmin(eigval)]\n",
    "# Result\n",
    "# array([1., 0., 0., 0., 0., 0., 0., 0.])\n",
    "# It corresponds to (UUU).\n",
    "# It gives proper ground state."
   ]
  },
  {
   "cell_type": "code",
   "execution_count": 6,
   "metadata": {},
   "outputs": [
    {
     "data": {
      "text/plain": [
       "array([0., 0., 0., 0., 0., 0., 0., 1.])"
      ]
     },
     "execution_count": 6,
     "metadata": {},
     "output_type": "execute_result"
    }
   ],
   "source": [
    "# Consider when h is smaller than zero.\n",
    "decoupled_H_basis = qxy.generate_Hamiltonian(qxy.generate_full_basis(3), 0, -1)\n",
    "decoupled_H_pauli = qxy.generate_Hamiltonian_with_Pauli_matrices(3, 0, -1)\n",
    "\n",
    "np.allclose(decoupled_H_basis, decoupled_H_pauli)\n",
    "# Result\n",
    "# True\n",
    "# They are equivalent.\n",
    "\n",
    "(eigval, eigvec) = linalg.eigh(decoupled_H_basis)\n",
    "eigvec[np.argmin(eigval)]\n",
    "# Result\n",
    "# array([0., 0., 0., 0., 0., 0., 0., 1.])\n",
    "# It corresponds to (DDD).\n",
    "# It gives proper ground state."
   ]
  },
  {
   "cell_type": "markdown",
   "metadata": {},
   "source": [
    "## Question 4\n",
    "##### Compute ground states for system size $N = 5$ to $11$ and $h = 0.1$ to $5.0$ in steps of $0.1$. \n",
    "##### Compare full diagonalization and Lanczos method for ground state."
   ]
  },
  {
   "cell_type": "code",
   "execution_count": 5,
   "metadata": {},
   "outputs": [
    {
     "name": "stdout",
     "output_type": "stream",
     "text": [
      "* Elapsed time: 105.32306671142578\n"
     ]
    }
   ],
   "source": [
    "# Parameters \n",
    "N = np.arange(5,12)\n",
    "h = np.linspace(0.1,5.0, 50)\n",
    "paramlist = list(itertools.product(N,h))\n",
    "\n",
    "# This \n",
    "def process_algorithm(paramlist):\n",
    "    n = paramlist[0]\n",
    "    h = paramlist[1]\n",
    "    # Generate Hamiltonian\n",
    "    H = qxy.generate_Hamiltonian(qxy.generate_full_basis(n), 1, h)\n",
    "    # Compute eigenvalue and eigenvector using full diagonalization\n",
    "    (eigval_fulld, eigvec_fulld) = linalg.eigh(H)\n",
    "    # Compute smallest eigenvalue and corresponding ground state using Lanczos\n",
    "    (eigval_lancz, eigvec_lancz) = eigsh(H, k = 1, which = 'SA')\n",
    "    \n",
    "    return (eigval_fulld[0], eigval_lancz[0], np.sum(np.square(eigvec_fulld[:,0])) - np.sum(np.square(eigvec_lancz[:,0])))\n",
    "\n",
    "# Generate processes equal to the number of cores - 1\n",
    "pool = multiprocessing.Pool(os.cpu_count() - 1)\n",
    "\n",
    "start = time.time()\n",
    "np.seterr('ignore')\n",
    "#-----------------------------------\n",
    "# Distribute the parameter sets evenly across the cores\n",
    "res  = pool.map(process_algorithm,paramlist)\n",
    "#-----------------------------------\n",
    "end = time.time()\n",
    "print('* Elapsed time: {}'.format(end - start))\n",
    "\n",
    "pool.close()\n",
    "pool.terminate()\n",
    "pool.join()"
   ]
  },
  {
   "cell_type": "code",
   "execution_count": 6,
   "metadata": {},
   "outputs": [],
   "source": [
    "RESULT = pd.DataFrame(res)\n",
    "RESULT.columns = ['EIGVAL_FD', 'EIGVAL_LC', 'LOSS_EIGVECS']"
   ]
  },
  {
   "cell_type": "markdown",
   "metadata": {},
   "source": [
    "**EIGVAL_FD : Smallest eigenvalue obtained using full diagonalization**\\\n",
    "**EIGVAL_LC : Smallest eigenvalue obtained using Lanczos method**\\\n",
    "**LOSS_EIGVECS : In order to quantitatively compare the groundstates obtained from two different method, the following equation is used.**\n",
    "\\begin{equation}\n",
    "    \\Delta = \\langle \\text{GS} | \\text{GS} \\rangle_\\text{FD} - \\langle \\text{GS} | \\text{GS} \\rangle_\\text{LC}\n",
    "\\end{equation}"
   ]
  },
  {
   "cell_type": "code",
   "execution_count": 8,
   "metadata": {},
   "outputs": [
    {
     "data": {
      "image/png": "[encoded data removed]",
      "text/plain": [
       "<Figure size 864x432 with 1 Axes>"
      ]
     },
     "metadata": {
      "needs_background": "light"
     },
     "output_type": "display_data"
    }
   ],
   "source": [
    "# Plot of difference of two ground state energies computed by full diagonalization and Lanczos.\n",
    "plt.rcParams[\"figure.figsize\"] = (12,6)\n",
    "plt.plot(RESULT['EIGVAL_FD'] - RESULT['EIGVAL_LC'], marker='o', linestyle='none')\n",
    "plt.show()\n",
    "\n",
    "# There is no meaningful difference in groundstate energies."
   ]
  },
  {
   "cell_type": "code",
   "execution_count": 199,
   "metadata": {},
   "outputs": [
    {
     "data": {
      "image/png": "[encoded data removed]",
      "text/plain": [
       "<Figure size 864x432 with 1 Axes>"
      ]
     },
     "metadata": {
      "needs_background": "light"
     },
     "output_type": "display_data"
    }
   ],
   "source": [
    "# Plot LOSS_EIGVECS\n",
    "plt.rcParams[\"figure.figsize\"] = (12,6)\n",
    "plt.plot(RESULT['LOSS_EIGVECS'], marker='o', linestyle='none')\n",
    "plt.show()\n",
    "\n",
    "# There is no meaningful difference in LOSS_EIGVECS"
   ]
  },
  {
   "cell_type": "markdown",
   "metadata": {},
   "source": [
    "**Due to the degeneracy, one can have different eigenvector for Lanczos method or the state with an opposite phase might occur.\n",
    "Hence the Lanczsos method should be used for quick check of groundstate energies and corresponding eigenvector.\n",
    "For exact calculation, full diagonalization must be applied.**"
   ]
  },
  {
   "cell_type": "code",
   "execution_count": 9,
   "metadata": {},
   "outputs": [],
   "source": [
    "Ham_xy = qxy.generate_Hamiltonian(qxy.generate_full_basis(10), 1, 1)\n",
    "_, vec_fulld = linalg.eigh(Ham_xy)\n",
    "_, vec_lancz = eigsh(Ham_xy, k = 1, which = 'SA')"
   ]
  },
  {
   "cell_type": "code",
   "execution_count": 42,
   "metadata": {},
   "outputs": [
    {
     "data": {
      "image/png": "[encoded data removed]",
      "text/plain": [
       "<Figure size 864x432 with 1 Axes>"
      ]
     },
     "metadata": {
      "needs_background": "light"
     },
     "output_type": "display_data"
    }
   ],
   "source": [
    "plt.plot(vec_fulld[:,0], marker = \"o\")\n",
    "plt.show()"
   ]
  },
  {
   "cell_type": "code",
   "execution_count": 43,
   "metadata": {},
   "outputs": [
    {
     "data": {
      "image/png": "[encoded data removed]",
      "text/plain": [
       "<Figure size 864x432 with 1 Axes>"
      ]
     },
     "metadata": {
      "needs_background": "light"
     },
     "output_type": "display_data"
    }
   ],
   "source": [
    "plt.plot(vec_lancz[:,0], marker = \"o\")\n",
    "plt.show()"
   ]
  },
  {
   "cell_type": "markdown",
   "metadata": {},
   "source": [
    "## Question 5\n",
    "##### Compute the magnetization"
   ]
  },
  {
   "cell_type": "code",
   "execution_count": 39,
   "metadata": {},
   "outputs": [
    {
     "name": "stdout",
     "output_type": "stream",
     "text": [
      "* Elapsed time: 103.47014856338501\n"
     ]
    }
   ],
   "source": [
    "# Parameters \n",
    "N = np.arange(5,12)\n",
    "h = np.linspace(0.1,2.0, 50)\n",
    "paramlist = list(itertools.product(N,h))\n",
    "\n",
    "# Consider the Hamiltonian generated by Pauli matrices.\n",
    "def process_algorithm_for_magnetization(paramlist):\n",
    "    n = paramlist[0]\n",
    "    h = paramlist[1]\n",
    "    \n",
    "    H = qxy.generate_Hamiltonian(qxy.generate_full_basis(n), 1, h)\n",
    "    (eigval,eigvec) = linalg.eigh(H)\n",
    "    \n",
    "    return qxy.compute_magnetization(eigvec[:,0], qxy.generate_full_basis(n))\n",
    "\n",
    "# Generate processes equal to the number of cores - 1\n",
    "pool1 = multiprocessing.Pool(os.cpu_count() - 1)\n",
    "\n",
    "\n",
    "start = time.time() # Time start\n",
    "np.seterr('ignore') # Ignore errors\n",
    "#-----------------------------------\n",
    "# Distribute the parameter sets evenly across the cores\n",
    "mag  = pool1.map(process_algorithm_for_magnetization, paramlist)\n",
    "#-----------------------------------\n",
    "end = time.time() # Time end\n",
    "print('* Elapsed time: {}'.format(end - start)) # Print taken time\n",
    "\n",
    "pool1.close()\n",
    "pool1.terminate()\n",
    "pool1.join()"
   ]
  },
  {
   "cell_type": "markdown",
   "metadata": {},
   "source": [
    "##### Plot magnetization with respect to field\n",
    "**In the case of $J= 1$, the system with size varying from $5$ to $11$ is ferromagnet for $h$ larger than $1$.\n",
    "The effect of $h\\sigma_{i}^{z}$ is dominant.\n",
    "For $h$ being smaller than $1$, the system still has positive magnetization.\n",
    "But the effect of flipping consecutive spins suppress the spin alignment along the magnetic field.**\n",
    "\n",
    "**The observation gives that the magnetization is equidistantly discretized.\n",
    "That is because the allowed total angular momentum and the magnetization are proportional to each other.\n",
    "For instance, with 5 spins system the possible total angular momentums are $5/2$, $3/2$, $1/2$.\n",
    "Then there are three different magnetization.**"
   ]
  },
  {
   "cell_type": "code",
   "execution_count": 40,
   "metadata": {},
   "outputs": [],
   "source": [
    "# Convert into dataframe\n",
    "RESULT = pd.concat([pd.DataFrame(paramlist), pd.DataFrame(mag)], axis=1)\n",
    "# Rename its column name\n",
    "RESULT.columns = ['SIZE', 'FIELD', 'MAG']"
   ]
  },
  {
   "cell_type": "code",
   "execution_count": 41,
   "metadata": {},
   "outputs": [
    {
     "data": {
      "image/png": "[encoded data removed]",
      "text/plain": [
       "<Figure size 864x432 with 1 Axes>"
      ]
     },
     "metadata": {
      "needs_background": "light"
     },
     "output_type": "display_data"
    }
   ],
   "source": [
    "SUBSET = RESULT[RESULT['SIZE'] == 5]\n",
    "plt.plot(SUBSET['FIELD'], SUBSET['MAG'], marker = \"o\")\n",
    "plt.xlabel('Field h')\n",
    "plt.ylabel('Magnetization M')\n",
    "plt.show()\n",
    "\n",
    "# plt.rcParams[\"figure.figsize\"] = (12,6)\n",
    "# for n in N:\n",
    "#     SUBSET = RESULT[RESULT['SIZE'] == n]\n",
    "#     plt.plot(SUBSET['FIELD'], SUBSET['MAG'], marker = \"o\")"
   ]
  },
  {
   "cell_type": "markdown",
   "metadata": {},
   "source": [
    "# Question 6"
   ]
  },
  {
   "cell_type": "code",
   "execution_count": 26,
   "metadata": {},
   "outputs": [
    {
     "name": "stdout",
     "output_type": "stream",
     "text": [
      "* Elapsed time: 153.16012954711914\n"
     ]
    }
   ],
   "source": [
    "# Parameters \n",
    "N = np.arange(5,12)\n",
    "h = np.linspace(0.1,2.0,50)\n",
    "paramlist = list(itertools.product(N,h))\n",
    "\n",
    "# Consider the Hamiltonian generated by Pauli matrices.\n",
    "def process_algorithm_for_connected_correlation(paramlist):\n",
    "    n = paramlist[0]\n",
    "    h = paramlist[1]\n",
    "    \n",
    "    H = qxy.generate_Hamiltonian_with_Pauli_matrices(n, 1, h)\n",
    "    (eigval,eigvec) = linalg.eigh(H)\n",
    "    \n",
    "    G = qxy.compute_correlation(eigvec[:,0], qxy.generate_full_basis(n), 1)\n",
    "    M = qxy.compute_magnetization(eigvec[:,0], qxy.generate_full_basis(n))\n",
    "    return G - M**2\n",
    "\n",
    "# Generate processes equal to the number of cores - 1\n",
    "pool1 = multiprocessing.Pool(os.cpu_count() - 1)\n",
    "\n",
    "start = time.time() # Time start\n",
    "np.seterr('ignore') # Ignore errors\n",
    "#-----------------------------------\n",
    "# Distribute the parameter sets evenly across the cores\n",
    "ccr  = pool1.map(process_algorithm_for_connected_correlation, paramlist)\n",
    "#-----------------------------------\n",
    "end = time.time() # Time end\n",
    "print('* Elapsed time: {}'.format(end - start)) # Print taken time\n",
    "\n",
    "pool1.close()\n",
    "pool1.terminate()\n",
    "pool1.join()"
   ]
  },
  {
   "cell_type": "markdown",
   "metadata": {},
   "source": [
    "##### Plot connected correlation with respect to field\n",
    "**Since the connected correlation is zero for $h$ larger than $1$, there is no fluctation around the mean magnetization $M = 1$.\n",
    "However there exists a fluctuation in magnetization for $h$ smaller than $1$ due to the flipping of consecutive spins.**"
   ]
  },
  {
   "cell_type": "code",
   "execution_count": 27,
   "metadata": {},
   "outputs": [],
   "source": [
    "# Convert into dataframe\n",
    "RESULT = pd.concat([pd.DataFrame(paramlist), pd.DataFrame(ccr)], axis=1)\n",
    "# Rename its column name\n",
    "RESULT.columns = ['SIZE', 'FIELD', 'ConnectedCOR']"
   ]
  },
  {
   "cell_type": "code",
   "execution_count": 33,
   "metadata": {},
   "outputs": [
    {
     "data": {
      "image/png": "[encoded data removed]",
      "text/plain": [
       "<Figure size 864x432 with 1 Axes>"
      ]
     },
     "metadata": {
      "needs_background": "light"
     },
     "output_type": "display_data"
    }
   ],
   "source": [
    "SUBSET = RESULT[RESULT['SIZE'] == 11]\n",
    "plt.plot(SUBSET['FIELD'], SUBSET['ConnectedCOR'], marker = \"o\")\n",
    "plt.xlabel('Field h')\n",
    "plt.ylabel('ConnectedCor C')\n",
    "plt.show()\n",
    "\n",
    "# plt.rcParams[\"figure.figsize\"] = (12,6)\n",
    "# for n in N:\n",
    "#     SUBSET = RESULT[RESULT['SIZE'] == n]\n",
    "#     plt.plot(SUBSET['FIELD'], SUBSET['ConnectedCOR'], marker = \"o\")"
   ]
  },
  {
   "cell_type": "code",
   "execution_count": null,
   "metadata": {},
   "outputs": [],
   "source": []
  }
 ],
 "metadata": {
  "kernelspec": {
   "display_name": "Python 3",
   "language": "python",
   "name": "python3"
  },
  "language_info": {
   "codemirror_mode": {
    "name": "ipython",
    "version": 3
   },
   "file_extension": ".py",
   "mimetype": "text/x-python",
   "name": "python",
   "nbconvert_exporter": "python",
   "pygments_lexer": "ipython3",
   "version": "3.8.3"
  }
 },
 "nbformat": 4,
 "nbformat_minor": 2
}
